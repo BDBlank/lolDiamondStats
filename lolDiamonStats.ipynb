{
 "cells": [
  {
   "cell_type": "code",
   "execution_count": 17,
   "metadata": {},
   "outputs": [],
   "source": [
    "import pandas as pd\n",
    "import numpy as np"
   ]
  },
  {
   "cell_type": "code",
   "execution_count": 2,
   "metadata": {},
   "outputs": [],
   "source": [
    "data=pd.read_csv('Data/high_diamond_ranked_10min.csv')"
   ]
  },
  {
   "cell_type": "code",
   "execution_count": 15,
   "metadata": {
    "tags": []
   },
   "outputs": [
    {
     "output_type": "stream",
     "name": "stdout",
     "text": "gameId  blueWins  blueWardsPlaced  blueWardsDestroyed  blueFirstBlood  \\\n0  4519157822         0               28                   2               1   \n1  4523371949         0               12                   1               0   \n2  4521474530         0               15                   0               0   \n3  4524384067         0               43                   1               0   \n4  4436033771         0               75                   4               0   \n\n   blueKills  blueDeaths  blueAssists  blueEliteMonsters  blueDragons  ...  \\\n0          9           6           11                  0            0  ...   \n1          5           5            5                  0            0  ...   \n2          7          11            4                  1            1  ...   \n3          4           5            5                  1            0  ...   \n4          6           6            6                  0            0  ...   \n\n   redTowersDestroyed  redTotalGold  redAvgLevel  redTotalExperience  \\\n0                   0         16567          6.8               17047   \n1                   1         17620          6.8               17438   \n2                   0         17285          6.8               17254   \n3                   0         16478          7.0               17961   \n4                   0         17404          7.0               18313   \n\n   redTotalMinionsKilled  redTotalJungleMinionsKilled  redGoldDiff  \\\n0                    197                           55         -643   \n1                    240                           52         2908   \n2                    203                           28         1172   \n3                    235                           47         1321   \n4                    225                           67         1004   \n\n   redExperienceDiff  redCSPerMin  redGoldPerMin  \n0                  8         19.7         1656.7  \n1               1173         24.0         1762.0  \n2               1033         20.3         1728.5  \n3                  7         23.5         1647.8  \n4               -230         22.5         1740.4  \n\n[5 rows x 40 columns]\n0       40\n1       40\n2       40\n3       40\n4       40\n        ..\n9874    40\n9875    40\n9876    40\n9877    40\n9878    40\nLength: 9879, dtype: int64\ngameId\nblueWins\nblueWardsPlaced\nblueWardsDestroyed\nblueFirstBlood\nblueKills\nblueDeaths\nblueAssists\nblueEliteMonsters\nblueDragons\nblueHeralds\nblueTowersDestroyed\nblueTotalGold\nblueAvgLevel\nblueTotalExperience\nblueTotalMinionsKilled\nblueTotalJungleMinionsKilled\nblueGoldDiff\nblueExperienceDiff\nblueCSPerMin\nblueGoldPerMin\nredWardsPlaced\nredWardsDestroyed\nredFirstBlood\nredKills\nredDeaths\nredAssists\nredEliteMonsters\nredDragons\nredHeralds\nredTowersDestroyed\nredTotalGold\nredAvgLevel\nredTotalExperience\nredTotalMinionsKilled\nredTotalJungleMinionsKilled\nredGoldDiff\nredExperienceDiff\nredCSPerMin\nredGoldPerMin\n"
    }
   ],
   "source": [
    "print(data.head())\n",
    "print(data.count(axis=1))\n",
    "for col in data.columns: \n",
    "    print(col) \n"
   ]
  },
  {
   "cell_type": "code",
   "execution_count": 14,
   "metadata": {
    "tags": []
   },
   "outputs": [
    {
     "output_type": "stream",
     "name": "stdout",
     "text": "gameId                          0\nblueWins                        0\nblueWardsPlaced                 0\nblueWardsDestroyed              0\nblueFirstBlood                  0\nblueKills                       0\nblueDeaths                      0\nblueAssists                     0\nblueEliteMonsters               0\nblueDragons                     0\nblueHeralds                     0\nblueTowersDestroyed             0\nblueTotalGold                   0\nblueAvgLevel                    0\nblueTotalExperience             0\nblueTotalMinionsKilled          0\nblueTotalJungleMinionsKilled    0\nblueGoldDiff                    0\nblueExperienceDiff              0\nblueCSPerMin                    0\nblueGoldPerMin                  0\nredWardsPlaced                  0\nredWardsDestroyed               0\nredFirstBlood                   0\nredKills                        0\nredDeaths                       0\nredAssists                      0\nredEliteMonsters                0\nredDragons                      0\nredHeralds                      0\nredTowersDestroyed              0\nredTotalGold                    0\nredAvgLevel                     0\nredTotalExperience              0\nredTotalMinionsKilled           0\nredTotalJungleMinionsKilled     0\nredGoldDiff                     0\nredExperienceDiff               0\nredCSPerMin                     0\nredGoldPerMin                   0\ndtype: int64\n"
    }
   ],
   "source": [
    "print(data.isna().sum())"
   ]
  },
  {
   "cell_type": "code",
   "execution_count": 19,
   "metadata": {},
   "outputs": [],
   "source": [
    "# lets first look at some win statistics\n",
    "data['Unlikely']=np.where(((data['blueWins']==0) & (data['redGoldDiff']>0)),1,0)"
   ]
  },
  {
   "cell_type": "code",
   "execution_count": 20,
   "metadata": {},
   "outputs": [
    {
     "output_type": "execute_result",
     "data": {
      "text/plain": "0       0\n1       1\n2       1\n3       1\n4       1\n       ..\n9874    0\n9875    0\n9876    1\n9877    1\n9878    0\nName: Unlikely, Length: 9879, dtype: int64"
     },
     "metadata": {},
     "execution_count": 20
    }
   ],
   "source": [
    "data['Unlikely'].c"
   ]
  },
  {
   "cell_type": "code",
   "execution_count": 21,
   "metadata": {},
   "outputs": [
    {
     "output_type": "execute_result",
     "data": {
      "text/plain": "count     9879.000000\nmean       -14.414111\nstd       2453.349179\nmin     -11467.000000\n25%      -1596.000000\n50%        -14.000000\n75%       1585.500000\nmax      10830.000000\nName: redGoldDiff, dtype: float64"
     },
     "metadata": {},
     "execution_count": 21
    }
   ],
   "source": [
    "#did not know this existed \n",
    "data['redGoldDiff'].describe()"
   ]
  },
  {
   "cell_type": "code",
   "execution_count": null,
   "metadata": {},
   "outputs": [],
   "source": []
  }
 ],
 "metadata": {
  "language_info": {
   "codemirror_mode": {
    "name": "ipython",
    "version": 3
   },
   "file_extension": ".py",
   "mimetype": "text/x-python",
   "name": "python",
   "nbconvert_exporter": "python",
   "pygments_lexer": "ipython3",
   "version": "3.8.2-final"
  },
  "orig_nbformat": 2,
  "kernelspec": {
   "name": "python38264bitenvvenvf5d23c35430e4c50b95d05d0aa545f57",
   "display_name": "Python 3.8.2 64-bit ('env': venv)"
  }
 },
 "nbformat": 4,
 "nbformat_minor": 2
}